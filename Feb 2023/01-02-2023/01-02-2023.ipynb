{
 "cells": [
  {
   "cell_type": "code",
   "execution_count": 44,
   "metadata": {},
   "outputs": [
    {
     "name": "stdout",
     "output_type": "stream",
     "text": [
      "443839\n"
     ]
    }
   ],
   "source": [
    "# ID: 30\n",
    "# Digit fifth powers\n",
    "# \"Surprisingly there are only three numbers that can be written as the sum of fourth powers of their digits:\n",
    "# 1634 = 14 + 64 + 34 + 44\n",
    "# 8208 = 84 + 24 + 04 + 84\n",
    "# 9474 = 94 + 44 + 74 + 44\n",
    "# As 1 = 14 is not a sum it is not included.\n",
    "# The sum of these numbers is 1634 + 8208 + 9474 = 19316.\n",
    "# Find the sum of all the numbers that can be written as the sum of fifth powers of their digits.\"\n",
    "\n",
    "def digit_power():\n",
    "    solution=[]\n",
    "    for n in range(2,1000000): #1634\n",
    "        l=list(map(int,str(n))) # 1 6 3 4\n",
    "        s=0\n",
    "        for i in l:\n",
    "            x=pow(i,5) #256\n",
    "            s=s+x       # 1634\n",
    "        if(s==n):\n",
    "            solution.append(n)\n",
    "    print(sum(solution))\n",
    "digit_power()"
   ]
  },
  {
   "cell_type": "code",
   "execution_count": 39,
   "metadata": {},
   "outputs": [
    {
     "name": "stdout",
     "output_type": "stream",
     "text": [
      "73682\n"
     ]
    }
   ],
   "source": [
    "# ID: 31\n",
    "# Coin sums\n",
    "# In England the currency is made up of pound, £, and pence, p, and there are eight coins in general circulation:\n",
    "# 1p, 2p, 5p, 10p, 20p, 50p, £1 (100p) and £2 (200p).\n",
    "# It is possible to make £2 in the following way:\n",
    "# 1×£1 + 1×50p + 2×20p + 1×5p + 1×2p + 3×1p\n",
    "# How many different ways can £2 be made using any number of coins?\"\n",
    "\n",
    "n=200\n",
    "coin = [1,2,5,10,20,50,100,200]  #\n",
    "possibility = [1] + [0]*n\n",
    "for c in coin:\n",
    "    for i in range(c,n+1): #1,200\n",
    "        possibility[i] += possibility[i-c]\n",
    "print(possibility[n])\n",
    "\n"
   ]
  },
  {
   "cell_type": "code",
   "execution_count": 25,
   "metadata": {},
   "outputs": [
    {
     "data": {
      "text/plain": [
       "40730"
      ]
     },
     "execution_count": 25,
     "metadata": {},
     "output_type": "execute_result"
    }
   ],
   "source": [
    "# ID: 34\n",
    "# Digit factorials\n",
    "# \"145 is a curious number, as 1! + 4! + 5! = 1 + 24 + 120 = 145.\n",
    "# Find the sum of all numbers which are equal to the sum of the factorial of their digits.\n",
    "# Note: as 1! = 1 and 2! = 2 are not sums they are not included.\"\n",
    "\n",
    "def fact(x):\n",
    "    if(x==0 or x==1):\n",
    "        return 1\n",
    "    else:\n",
    "        return x*fact(x-1)\n",
    "\n",
    "def digit_fact():\n",
    "    ans=[]\n",
    "    num=3\n",
    "    while(num<2000000):\n",
    "        total=0    \n",
    "        l=[]\n",
    "        # num=145\n",
    "        n=str(num)\n",
    "        for i in n:\n",
    "            x=fact(int(i))\n",
    "            l.append(x)\n",
    "        s=sum(l)\n",
    "        if(s==num):\n",
    "            ans.append(num)\n",
    "        num+=1\n",
    "    return sum(ans)\n",
    "digit_fact()\n",
    "    "
   ]
  },
  {
   "cell_type": "code",
   "execution_count": 58,
   "metadata": {},
   "outputs": [],
   "source": [
    "# ID: 35\n",
    "# Circular primes\n",
    "# \"The number, 197, is called a circular prime because all rotations of the digits: 197, 971, and 719, are themselves prime.\n",
    "# There are thirteen such primes below 100: 2, 3, 5, 7, 11, 13, 17, 31, 37, 71, 73, 79, and 97.\n",
    "# How many circular primes are there below one million?\"\n",
    "\n",
    "# n=197\n",
    "count=0\n",
    "for n in range(2,1000000): \n",
    "    n=str(n) #197\n",
    "    l=len(n) #3\n",
    "    f=1\n",
    "    for i in range(l): #2\n",
    "        # print(n[i:]) #197   #97 #7\n",
    "        # print(n[:i]) #\" \"   #1  #19\n",
    "        c = n[i:]+n[:i] #197+\" \"  #97+1 #7+19\n",
    "        # print(c) #197       #971    #719\n",
    "        c=int(c)\n",
    "        for i in range(2,c):\n",
    "            if(c%i==0):\n",
    "                f=0\n",
    "        if(f==0):\n",
    "            break\n",
    "    if(f==1):\n",
    "        count+=1\n",
    "print(count)\n",
    "    "
   ]
  },
  {
   "cell_type": "code",
   "execution_count": 57,
   "metadata": {},
   "outputs": [
    {
     "name": "stdout",
     "output_type": "stream",
     "text": [
      "872187\n"
     ]
    }
   ],
   "source": [
    "# ID: 36\n",
    "# Double-base palindromes\n",
    "# \"The decimal number, 585 = 10010010012 (binary), is palindromic in both bases.\n",
    "# Find the sum of all numbers, less than one million, which are palindromic in base 10 and base 2.\n",
    "# (Please note that the palindromic number, in either base, may not include leading zeros.)\"\n",
    "\n",
    "def check_palindrome(n):\n",
    "    n=str(n)\n",
    "    if(n==n[::-1]):\n",
    "        return True\n",
    "\n",
    "def check_binary_palindrome(n):\n",
    "    num=n\n",
    "    x=\"{0:b}\".format(num)\n",
    "    if(check_palindrome(x)):\n",
    "        return True\n",
    "total=0\n",
    "for i in range(1,1000000):\n",
    "    if(check_palindrome(i)):\n",
    "        if(check_binary_palindrome(i)):\n",
    "            # print(i)\n",
    "            total+=i\n",
    "print(total)"
   ]
  }
 ],
 "metadata": {
  "kernelspec": {
   "display_name": "Python 3",
   "language": "python",
   "name": "python3"
  },
  "language_info": {
   "codemirror_mode": {
    "name": "ipython",
    "version": 3
   },
   "file_extension": ".py",
   "mimetype": "text/x-python",
   "name": "python",
   "nbconvert_exporter": "python",
   "pygments_lexer": "ipython3",
   "version": "3.10.6 (tags/v3.10.6:9c7b4bd, Aug  1 2022, 21:53:49) [MSC v.1932 64 bit (AMD64)]"
  },
  "orig_nbformat": 4,
  "vscode": {
   "interpreter": {
    "hash": "369f2c481f4da34e4445cda3fffd2e751bd1c4d706f27375911949ba6bb62e1c"
   }
  }
 },
 "nbformat": 4,
 "nbformat_minor": 2
}
