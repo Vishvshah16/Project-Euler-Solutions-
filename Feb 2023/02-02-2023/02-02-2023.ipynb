{
 "cells": [
  {
   "cell_type": "code",
   "execution_count": 61,
   "metadata": {},
   "outputs": [
    {
     "name": "stdout",
     "output_type": "stream",
     "text": [
      "['2', '3']\n",
      "['3', '7']\n",
      "['5', '3']\n",
      "['7', '3']\n",
      "['3', '1', '3']\n",
      "['3', '1', '7']\n",
      "['3', '7', '3']\n",
      "['7', '9', '7']\n",
      "['3', '1', '3', '7']\n",
      "['3', '7', '9', '7']\n",
      "['7', '3', '9', '3', '9', '7']\n",
      "748317\n"
     ]
    }
   ],
   "source": [
    "# ID: 37\n",
    "# Truncatable primes\n",
    "# \"The number 3797 has an interesting property. Being prime itself, it is possible to continuously remove digits from left to right, and remain prime at each stage: 3797, 797, 97, and 7. Similarly we can work from right to left: 3797, 379, 37, and 3.\n",
    "# Find the sum of the only eleven primes that are both truncatable from left to right and right to left.\n",
    "# Notes: 2, 3, 5, and 7 are not considered to be truncatable primes.\"\n",
    "\n",
    "def prime(n):\n",
    "    f=2\n",
    "    while f*f <=n:\n",
    "        if n%f==0:\n",
    "            return False\n",
    "        f+=1\n",
    "    return True\n",
    "     \n",
    "def truncatable_prime():\n",
    "    n=8\n",
    "    s=0\n",
    "    count=0\n",
    "    while(n>0):\n",
    "        if(prime(n)):\n",
    "            c=0\n",
    "            for i in range(-1,-len(str(n)),-1): #3797 \n",
    "                less_right= str(n)[:i]\n",
    "                if not prime(int(less_right)):\n",
    "                    c+=1\n",
    "            if(c==0):\n",
    "                for i in range(1,len(str(n))): \n",
    "                    less_left = str(n)[i:]\n",
    "                    if not prime(int(less_left)):\n",
    "                        c+=1\n",
    "            if(c==0):\n",
    "                # print(n) \n",
    "                temp=list(str(n))\n",
    "                l=len(temp)\n",
    "                if(temp[0]!=\"1\" and temp[(l-1)]!=\"1\"):\n",
    "                    print(temp)\n",
    "                    s+=n\n",
    "                    count+=1\n",
    "        if(count==11):\n",
    "            print(s)\n",
    "            break\n",
    "        else:\n",
    "            n+=1\n",
    "    \n",
    "truncatable_prime()        "
   ]
  },
  {
   "cell_type": "code",
   "execution_count": 67,
   "metadata": {},
   "outputs": [
    {
     "name": "stdout",
     "output_type": "stream",
     "text": [
      "932718654\n"
     ]
    }
   ],
   "source": [
    "# ID: 38\n",
    "# Pandigital multiples\n",
    "# \"Take the number 192 and multiply it by each of 1, 2, and 3:\n",
    "# 192 × 1 = 192\n",
    "# 192 × 2 = 384\n",
    "# 192 × 3 = 576\n",
    "# By concatenating each product we get the 1 to 9 pandigital, 192384576. We will call 192384576 the concatenated product of 192 and (1,2,3)\n",
    "# The same can be achieved by starting with 9 and multiplying by 1, 2, 3, 4, and 5, giving the pandigital, 918273645, which is the concatenated product of 9 and (1,2,3,4,5).\n",
    "# What is the largest 1 to 9 pandigital 9-digit number that can be formed as the concatenated product of an integer with (1,2, ... , n) where n > 1?\"\n",
    "\n",
    "l=0\n",
    "for i in range(1,10000):\n",
    "    mul=''\n",
    "    x=1\n",
    "    while(len(mul)<9):\n",
    "        mul+=str(i*x)\n",
    "        x+=1\n",
    "    if((len(mul)==9) and (len(set(mul))==9) and ('0' not in mul)):\n",
    "        if(int(mul)>l):\n",
    "            l=int(mul)\n",
    "print(l)"
   ]
  },
  {
   "cell_type": "code",
   "execution_count": 70,
   "metadata": {},
   "outputs": [
    {
     "data": {
      "text/plain": [
       "(840, 9)"
      ]
     },
     "execution_count": 70,
     "metadata": {},
     "output_type": "execute_result"
    }
   ],
   "source": [
    "# ID: 39\n",
    "# Integer right triangles\n",
    "# \"If p is the perimeter of a right angle triangle with integral length sides, {a,b,c}, there are exactly three solutions for p = 120.\n",
    "# {20,48,52}, {24,45,51}, {30,40,50}. For which value of p ≤ 1000, is the number of solutions maximised?\"\n",
    "\n",
    "def right_triangle():\n",
    "    max=0\n",
    "    for i in range(2,1001,2):\n",
    "        c=0\n",
    "        for j in range(2,int(i/3)):\n",
    "            if(i*(i-2*j)%(2*(i-j))==0):\n",
    "                c+=1\n",
    "            if(c>max):\n",
    "                max=c\n",
    "                maxp=i\n",
    "    return maxp,max\n",
    "\n",
    "right_triangle()"
   ]
  },
  {
   "cell_type": "code",
   "execution_count": 2,
   "metadata": {},
   "outputs": [
    {
     "name": "stdout",
     "output_type": "stream",
     "text": [
      "7652413\n"
     ]
    }
   ],
   "source": [
    "# ID: 41\n",
    "# Pandigital prime\n",
    "# \"We shall say that an n-digit number is pandigital if it makes use of all the digits 1 to n exactly once. For example, 2143 is a 4-digit pandigital and is also prime. What is the largest n-digit pandigital prime that exists?\"\n",
    "\n",
    "from itertools import permutations\n",
    "\n",
    "def is_prime(n):\n",
    "    for i in range(2, int(n**0.5)+1):\n",
    "        if n % i == 0:\n",
    "            return False\n",
    "    return True\n",
    "\n",
    "a = '123456789'\n",
    "f = True\n",
    "i = 9\n",
    "while f:\n",
    "    p = permutations(a[:i])\n",
    "    p = list(p)[::-1]\n",
    "    for j in p:\n",
    "        if int(j[i-1]) % 2 != 0:\n",
    "            number = int(''.join(j))\n",
    "            if (number+1) % 6 == 0 or (number-1) % 6 == 0:\n",
    "                if is_prime(number):\n",
    "                    print(number)\n",
    "                    f = False\n",
    "                    break\n",
    "    i -= 1"
   ]
  },
  {
   "cell_type": "code",
   "execution_count": 4,
   "metadata": {},
   "outputs": [
    {
     "name": "stdout",
     "output_type": "stream",
     "text": [
      "16695334890\n"
     ]
    }
   ],
   "source": [
    "# ID: 43\n",
    "# Sub-string divisibility\n",
    "# \"The number, 1406357289, is a 0 to 9 pandigital number because it is made up of each of the digits 0 to 9 in some order, but it also has a rather interesting sub-string divisibility property.\n",
    "# Let d1 be the 1st digit, d2 be the 2nd digit, and so on. In this way, we note the following:\n",
    "# d2d3d4=406 is divisible by 2\n",
    "# d3d4d5=063 is divisible by 3\n",
    "# d4d5d6=635 is divisible by 5\n",
    "# d5d6d7=357 is divisible by 7\n",
    "# d6d7d8=572 is divisible by 11\n",
    "# d7d8d9=728 is divisible by 13\n",
    "# d8d9d10=289 is divisible by 17\n",
    "# Find the sum of all 0 to 9 pandigital numbers with this property.\"\n",
    "\n",
    "from itertools import permutations\n",
    "\n",
    "p = permutations('0123456789')\n",
    "# print(p)\n",
    "s=0\n",
    "for i in p:\n",
    "    # print(i)\n",
    "    if(int(''.join(i[7:10]))%17 == 0 and int(''.join(i[6:9]))%13 == 0 and int(''.join(i[5:8]))%11 == 0 and int(''.join(i[4:7]))%7 == 0 and int(''.join(i[3:6]))%5 == 0 and int(''.join(i[2:5]))%3 == 0 and int(''.join(i[1:4]))%2 == 0):\n",
    "        s+=int(''.join(i))\n",
    "print(s)\n"
   ]
  },
  {
   "cell_type": "code",
   "execution_count": 15,
   "metadata": {},
   "outputs": [
    {
     "name": "stdout",
     "output_type": "stream",
     "text": [
      "5482660\n"
     ]
    }
   ],
   "source": [
    "# ID: 44\n",
    "# Pentagon numbers\n",
    "# \"Pentagonal numbers are generated by the formula, Pn=n(3n−1)/2. The first ten pentagonal numbers are:\n",
    "# 1, 5, 12, 22, 35, 51, 70, 92, 117, 145, ...\n",
    "# It can be seen that P4 + P7 = 22 + 70 = 92 = P8. However, their difference, 70 − 22 = 48, is not pentagonal.\n",
    "# Find the pair of pentagonal numbers, Pj and Pk, for which their sum and difference are pentagonal and D = |Pk − Pj| is minimised; what is the value of D?\"\n",
    "\n",
    "from math import sqrt\n",
    "\n",
    "def check_pentagon(n):\n",
    "    return (1+sqrt(1+24*n))%6==0\n",
    "\n",
    "i=0\n",
    "while True:\n",
    "    i+=1\n",
    "    x=i*(3*i - 1)//2\n",
    "    for a in range(1,i):\n",
    "        y = a * (3*a-1)//2\n",
    "        if check_pentagon(x+y) and check_pentagon(x-y):\n",
    "            print(x-y)\n",
    "            break\n",
    "        else:\n",
    "            continue\n",
    "        break\n",
    "    # break"
   ]
  }
 ],
 "metadata": {
  "kernelspec": {
   "display_name": "Python 3",
   "language": "python",
   "name": "python3"
  },
  "language_info": {
   "codemirror_mode": {
    "name": "ipython",
    "version": 3
   },
   "file_extension": ".py",
   "mimetype": "text/x-python",
   "name": "python",
   "nbconvert_exporter": "python",
   "pygments_lexer": "ipython3",
   "version": "3.10.6"
  },
  "orig_nbformat": 4,
  "vscode": {
   "interpreter": {
    "hash": "369f2c481f4da34e4445cda3fffd2e751bd1c4d706f27375911949ba6bb62e1c"
   }
  }
 },
 "nbformat": 4,
 "nbformat_minor": 2
}
