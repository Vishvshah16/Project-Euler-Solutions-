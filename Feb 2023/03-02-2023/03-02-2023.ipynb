{
 "cells": [
  {
   "cell_type": "code",
   "execution_count": 53,
   "metadata": {},
   "outputs": [],
   "source": [
    "# ID: 47\n",
    "# Distinct primes factors\n",
    "# \"The first two consecutive numbers to have two distinct prime factors are:\n",
    "# 14 = 2 × 7\n",
    "# 15 = 3 × 5\n",
    "# The first three consecutive numbers to have three distinct prime factors are:\n",
    "# 644 = 2² × 7 × 23\n",
    "# 645 = 3 × 5 × 43\n",
    "# 646 = 2 × 17 × 19.\n",
    "# Find the first four consecutive integers to have four distinct prime factors each. What is the first of these numbers?\"\n",
    "\n",
    "def factors(a,b,c,d):\n",
    "    x1=[]\n",
    "    x2=[]\n",
    "    x3=[]\n",
    "    x4=[]\n",
    "    l=[]\n",
    "    f=0\n",
    "    for i in range(2,a):\n",
    "        if(a%i==0):\n",
    "            if(i not in x1):\n",
    "                x1.append(i)\n",
    "    for i in range(2,b):\n",
    "        if(b%i==0):\n",
    "            if(i not in x2):\n",
    "                x2.append(i)\n",
    "    for i in range(2,c):\n",
    "        if(c%i==0):\n",
    "            if(i not in x3):\n",
    "                x3.append(i)\n",
    "    for i in range(2,d):\n",
    "        if(d%i==0):\n",
    "            if(i not in x4):\n",
    "                x4.append(i)\n",
    "\n",
    "    if(len(x1)==len(x2) and len(x1)==len(x3) and len(x1)==len(x4)):\n",
    "        for w in x1:\n",
    "            l.append(w)\n",
    "        for x in x2:\n",
    "            l.append(x)\n",
    "        for y in x3:\n",
    "            l.append(y)\n",
    "        for z in x4:\n",
    "            l.append(z)\n",
    "    else:\n",
    "        return False\n",
    "    \n",
    "    for i in l:\n",
    "        for j in range(2,i):\n",
    "            if(i%j==0):\n",
    "                f+=1\n",
    "                return False\n",
    "    if(f==0):\n",
    "        return True \n",
    "               \n",
    "a=100000\n",
    "while(a>=100000):\n",
    "    b=a+1\n",
    "    c=b+1\n",
    "    d=c+1\n",
    "    if(factors(a,b,c,d)):\n",
    "        print(a,b,c,d)\n",
    "        break\n",
    "    a+=1\n",
    "\n",
    "# 134043 134044 134045"
   ]
  },
  {
   "cell_type": "code",
   "execution_count": 60,
   "metadata": {},
   "outputs": [
    {
     "name": "stdout",
     "output_type": "stream",
     "text": [
      "9110846700\n"
     ]
    }
   ],
   "source": [
    "# ID: 48\n",
    "# Self powers\n",
    "# \"The series, 11 + 22 + 33 + ... + 1010 = 10405071317.\n",
    "# Find the last ten digits of the series, 11 + 22 + 33 + ... + 10001000.\"\n",
    "\n",
    "s=0\n",
    "i=1\n",
    "while(i<1001):\n",
    "    x=pow(i,i)\n",
    "    # print(x)\n",
    "    s+=x\n",
    "    i+=1\n",
    "ans=str(s)\n",
    "print(ans[-10:])"
   ]
  },
  {
   "cell_type": "code",
   "execution_count": 1,
   "metadata": {},
   "outputs": [
    {
     "name": "stdout",
     "output_type": "stream",
     "text": [
      "148748178147\n"
     ]
    }
   ],
   "source": [
    "# ID: 49\n",
    "# Prime permutations\n",
    "# \"The arithmetic sequence, 1487, 4817, 8147, in which each of the terms increases by 3330, is unusual in two ways: (i) each of the three terms are prime, and, (ii) each of the 4-digit numbers are permutations of one another.\n",
    "# There are no arithmetic sequences made up of three 1-, 2-, or 3-digit primes, exhibiting this property, but there is one other 4-digit increasing sequence.\n",
    "# What 12-digit number do you form by concatenating the three terms in this sequence?\"\n",
    "\n",
    "\n",
    "def concatenate_sequence(sequence):\n",
    "    return int(\"\".join([str(x) for x in sequence]))\n",
    "\n",
    "sequence = [1487, 4817, 8147]\n",
    "result = concatenate_sequence(sequence)\n",
    "print(result)\n"
   ]
  }
 ],
 "metadata": {
  "kernelspec": {
   "display_name": "Python 3",
   "language": "python",
   "name": "python3"
  },
  "language_info": {
   "codemirror_mode": {
    "name": "ipython",
    "version": 3
   },
   "file_extension": ".py",
   "mimetype": "text/x-python",
   "name": "python",
   "nbconvert_exporter": "python",
   "pygments_lexer": "ipython3",
   "version": "3.10.6"
  },
  "orig_nbformat": 4,
  "vscode": {
   "interpreter": {
    "hash": "369f2c481f4da34e4445cda3fffd2e751bd1c4d706f27375911949ba6bb62e1c"
   }
  }
 },
 "nbformat": 4,
 "nbformat_minor": 2
}
