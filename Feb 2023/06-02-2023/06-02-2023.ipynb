{
 "cells": [
  {
   "cell_type": "code",
   "execution_count": 2,
   "metadata": {},
   "outputs": [],
   "source": [
    "# # ID: 50\n",
    "# # Consecutive prime sum\n",
    "# # \"The prime 41, can be written as the sum of six consecutive primes:\n",
    "# # 41 = 2 + 3 + 5 + 7 + 11 + 13\n",
    "# # This is the longest sum of consecutive primes that adds to a prime below one-hundred.\n",
    "# # The longest sum of consecutive primes below one-thousand that adds to a prime, contains 21 terms, and is equal to 953.\n",
    "# # Which prime, below one-million, can be written as the sum of the most consecutive primes?\"\n",
    "\n",
    "\n",
    "import math\n",
    "\n",
    "def is_prime(n):\n",
    "    if n < 2:\n",
    "        return False\n",
    "    for i in range(2, int(math.sqrt(n)) + 1):\n",
    "        if n % i == 0:\n",
    "            return False\n",
    "    return True\n",
    "\n",
    "def prime_sum(n, primes):\n",
    "    total = 0\n",
    "    for i in range(len(primes)):\n",
    "        total += primes[i]\n",
    "        if total > n:\n",
    "            break\n",
    "        if total == n:\n",
    "            return True\n",
    "    return False\n",
    "\n",
    "def main(n):\n",
    "    primes = []\n",
    "    for i in range(2, n):\n",
    "        if is_prime(i):\n",
    "            primes.append(i)\n",
    "    max_length = 0\n",
    "    prime = 0\n",
    "    for i in range(len(primes)):\n",
    "        for j in range(i + max_length, len(primes)):\n",
    "            if prime_sum(sum(primes[i:j]), primes):\n",
    "                max_length = j - i\n",
    "                prime = sum(primes[i:j])\n",
    "    return prime\n",
    "\n",
    "print(main(1000000))\n"
   ]
  },
  {
   "cell_type": "code",
   "execution_count": 1,
   "metadata": {},
   "outputs": [
    {
     "name": "stdout",
     "output_type": "stream",
     "text": [
      "142857\n"
     ]
    }
   ],
   "source": [
    "# ID: 52\n",
    "# Permuted multiples\n",
    "# \"It can be seen that the number, 125874, and its double, 251748, contain exactly the same digits, but in a different order.\n",
    "# Find the smallest positive integer, x, such that 2x, 3x, 4x, 5x, and 6x, contain the same digits.\"\n",
    "\n",
    "i=1\n",
    "while(i>0):\n",
    "    if((set(str(i)) == set(str(i*2))) and (set(str(i)) == set(str(i*3))) and (set(str(i)) == set(str(i*4))) and (set(str(i)) == set(str(i*5))) and (set(str(i)) == set(str(i*6)))):\n",
    "        print(i)\n",
    "        break\n",
    "    i+=1"
   ]
  },
  {
   "cell_type": "code",
   "execution_count": 14,
   "metadata": {},
   "outputs": [
    {
     "name": "stdout",
     "output_type": "stream",
     "text": [
      "4075\n"
     ]
    }
   ],
   "source": [
    "# ID: 53\n",
    "# Combinatoric selections\n",
    "# \"There are exactly ten ways of selecting three from five, 12345:\n",
    "# 123, 124, 125, 134, 135, 145, 234, 235, 245, and 345\n",
    "# In combinatorics, we use the notation,5C3=10.In general,nCr=n!/r!(n-r)!, where r≤nr,\n",
    "# n!=n×(n−1)×...×3×2×1, and 0!=1. It is not until n=23, that a value exceeds one-million:23C10=1144066(.How many, not necessarily distinct, values of(nr)(for1≤n≤1001, are greater than one-million?\"\n",
    "\n",
    "from math import factorial\n",
    "c = 0\n",
    "\n",
    "def ncr(n,r):\n",
    "    return factorial(n)/(factorial(r)*factorial(n-r))\n",
    "\n",
    "for n in range(23,101): #Mentioned in the question\n",
    "    for r in range(1,n):\n",
    "        if(ncr(n,r)>1000000):\n",
    "            c+=1\n",
    "\n",
    "print(c)"
   ]
  },
  {
   "cell_type": "code",
   "execution_count": 47,
   "metadata": {},
   "outputs": [
    {
     "name": "stdout",
     "output_type": "stream",
     "text": [
      "249\n"
     ]
    }
   ],
   "source": [
    "# ID: 55\n",
    "# Lychrel numbers\n",
    "# \"If we take 47, reverse and add, 47 + 74 = 121, which is palindromic.\n",
    "# Not all numbers produce palindromes so quickly. For example,\n",
    "# 349 + 943 = 1292,\n",
    "# 1292 + 2921 = 4213\n",
    "# 4213 + 3124 = 7337\n",
    "# That is, 349 took three iterations to arrive at a palindrome.\n",
    "# Although no one has proved it yet, it is thought that some numbers, like 196, never produce a palindrome. A number that never forms a palindrome through the reverse and add process is called a Lychrel number. Due to the theoretical nature of these numbers, and for the purpose of this problem, we shall assume that a number is Lychrel until proven otherwise. In addition you are given that for every number below ten-thousand, it will either (i) become a palindrome in less than fifty iterations, or, (ii) no one, with all the computing power that exists, has managed so far to map it to a palindrome. In fact, 10677 is the first number to be shown to require over fifty iterations before producing a palindrome: 4668731596684224866951378664 (53 iterations, 28-digits).\n",
    "# Surprisingly, there are palindromic numbers that are themselves Lychrel numbers; the first example is 4994.\n",
    "# How many Lychrel numbers are there below ten-thousand?\n",
    "# Note: Wording was modified slightly on 24 April 2007 to emphasise the theoretical nature of Lychrel numbers.\"\n",
    "\n",
    "def lychrel(n):\n",
    "    i=1\n",
    "    while(i<51):\n",
    "        sum = n + int(str(n)[::-1])\n",
    "        if str(sum) == str(sum)[::-1]:\n",
    "            return False\n",
    "        n=sum\n",
    "        i+=1\n",
    "    return True\n",
    "c=0\n",
    "for i in range(10001):\n",
    "    if lychrel(i):\n",
    "        c+=1\n",
    "print(c)"
   ]
  },
  {
   "cell_type": "code",
   "execution_count": 52,
   "metadata": {},
   "outputs": [
    {
     "name": "stdout",
     "output_type": "stream",
     "text": [
      "972\n"
     ]
    }
   ],
   "source": [
    "# ID: 56\n",
    "# Powerful digit sum\n",
    "# \"A googol (10100) is a massive number: one followed by one-hundred zeros; 100100 is almost unimaginably large: one followed by two-hundred zeros. Despite their size, the sum of the digits in each number is only 1.\n",
    "# Considering natural numbers of the form, ab, where a, b < 100, what is the maximum digital sum?\"\n",
    "\n",
    "def check_digit_sum(n):\n",
    "    s=0\n",
    "    while(n!=0):\n",
    "        rem=n%10\n",
    "        s=s+rem\n",
    "        n=n//10\n",
    "    return s        \n",
    "\n",
    "l=0\n",
    "for a in range(1,100):\n",
    "    for b in range(1,100):\n",
    "        x=check_digit_sum(a**b)\n",
    "        if(x>l):\n",
    "            l=x\n",
    "print(l)"
   ]
  }
 ],
 "metadata": {
  "kernelspec": {
   "display_name": "Python 3",
   "language": "python",
   "name": "python3"
  },
  "language_info": {
   "codemirror_mode": {
    "name": "ipython",
    "version": 3
   },
   "file_extension": ".py",
   "mimetype": "text/x-python",
   "name": "python",
   "nbconvert_exporter": "python",
   "pygments_lexer": "ipython3",
   "version": "3.10.6"
  },
  "orig_nbformat": 4,
  "vscode": {
   "interpreter": {
    "hash": "369f2c481f4da34e4445cda3fffd2e751bd1c4d706f27375911949ba6bb62e1c"
   }
  }
 },
 "nbformat": 4,
 "nbformat_minor": 2
}
