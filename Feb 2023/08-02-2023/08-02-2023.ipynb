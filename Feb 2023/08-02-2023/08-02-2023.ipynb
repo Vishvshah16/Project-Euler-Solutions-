{
 "cells": [
  {
   "cell_type": "code",
   "execution_count": 30,
   "metadata": {},
   "outputs": [
    {
     "name": "stdout",
     "output_type": "stream",
     "text": [
      "837799\n"
     ]
    }
   ],
   "source": [
    "# ID: 14\n",
    "# Longest Collatz sequence\n",
    "# \"The following iterative sequence is defined for the set of positive integers:\n",
    "# n → n/2 (n is even)\n",
    "# n → 3n + 1 (n is odd)\n",
    "# Using the rule above and starting with 13, we generate the following sequence:\n",
    "# 13 → 40 → 20 → 10 → 5 → 16 → 8 → 4 → 2 → 1\n",
    "# It can be seen that this sequence (starting at 13 and finishing at 1) contains 10 terms. Although it has not been proved yet (Collatz Problem), it is thought that all starting numbers finish at 1.\n",
    "# Which starting number, under one million, produces the longest chain?\n",
    "# Note: Once the chain starts the terms are allowed to go above one million.\"\n",
    "\n",
    "def collatz(n):\n",
    "    c=1\n",
    "    num=n\n",
    "    while(num!=1):\n",
    "        if num%2==0:\n",
    "            num=num//2\n",
    "            c+=1\n",
    "        else:\n",
    "            num=(num*3) + 1\n",
    "            c+=1\n",
    "    return c,n\n",
    "\n",
    "l = []\n",
    "for i in range(2,1000000):\n",
    "    l.append(collatz(i))\n",
    "s_list = sorted(l,reverse=True)\n",
    "print(\"Number Below one million which produce the longest chain is : \",s_list[0][1])"
   ]
  },
  {
   "cell_type": "code",
   "execution_count": 35,
   "metadata": {},
   "outputs": [
    {
     "data": {
      "text/plain": [
       "137846528820"
      ]
     },
     "execution_count": 35,
     "metadata": {},
     "output_type": "execute_result"
    }
   ],
   "source": [
    "# ID: 15\n",
    "# Lattice paths\n",
    "# \"Starting in the top left corner of a 2×2 grid, and only being able to move to the right and down, there are exactly 6 routes to the bottom right corner.\n",
    "# How many such routes are there through a 20×20 grid?\"\n",
    "\n",
    "from math import factorial\n",
    "\n",
    "def lattice(s,e):\n",
    "    return int(factorial(s)/(factorial(e) * factorial(s-e)))\n",
    "\n",
    "lattice(20+20,20)"
   ]
  },
  {
   "cell_type": "code",
   "execution_count": 40,
   "metadata": {},
   "outputs": [
    {
     "name": "stdout",
     "output_type": "stream",
     "text": [
      "1074\n"
     ]
    }
   ],
   "source": [
    "# ID: 18\n",
    "# Maximum path sum I\n",
    "# \"By starting at the top of the triangle below and moving to adjacent numbers on the row below, the maximum total from top to bottom is 23.\n",
    "# 3\n",
    "# 7 4\n",
    "# 2 4 6\n",
    "# 8 5 9 3\n",
    "# That is, 3 + 7 + 4 + 9 = 23.\n",
    "# Find the maximum total from top to bottom of the triangle below:\n",
    "# 75\n",
    "# 95 64\n",
    "# 17 47 82\n",
    "# 18 35 87 10\n",
    "# 20 04 82 47 65\n",
    "# 19 01 23 75 03 34\n",
    "# 88 02 77 73 07 63 67\n",
    "# 99 65 04 28 06 16 70 92\n",
    "# 41 41 26 56 83 40 80 70 33\n",
    "# 41 48 72 33 47 32 37 16 94 29\n",
    "# 53 71 44 65 25 43 91 52 97 51 14\n",
    "# 70 11 33 28 77 73 17 78 39 68 17 57\n",
    "# 91 71 52 38 17 14 91 43 58 50 27 29 48\n",
    "# 63 66 04 68 89 53 67 30 73 16 69 87 40 31\n",
    "# 04 62 98 27 23 09 70 98 73 93 38 53 60 04 23\n",
    "# NOTE: As there are only 16384 routes, it is possible to solve this problem by trying every route. However, Problem 67, is the same challenge with a triangle containing one-hundred rows; it cannot be solved by brute force, and requires a clever method! ;o)\"\n",
    "\n",
    "l=[\n",
    "[75],\n",
    "[95, 64],\n",
    "[17, 47, 82],\n",
    "[18, 35, 87, 10],\n",
    "[20, 4, 82, 47, 65],\n",
    "[19, 1, 23, 75, 3, 34],\n",
    "[88, 2, 77, 73, 7, 63, 67],\n",
    "[99, 65, 4, 28, 6, 16, 70, 92],\n",
    "[41, 41, 26, 56, 83, 40, 80, 70, 33],\n",
    "[41, 48, 72, 33, 47, 32, 37, 16, 94, 29],\n",
    "[53, 71, 44, 65, 25, 43, 91, 52, 97, 51, 14],\n",
    "[70, 11, 33, 28, 77, 73, 17, 78, 39, 68, 17, 57],\n",
    "[91, 71, 52, 38, 17, 14, 91, 43, 58, 50, 27, 29, 48],\n",
    "[63, 66, 4, 68, 89, 53, 67, 30, 73, 16, 69, 87, 40, 31],\n",
    "[4, 62, 98, 27, 23, 9, 70, 98, 73, 93, 38, 53, 60, 4, 23]\n",
    "]\n",
    "\n",
    "for r in range(len(l)-1,0,-1): #from Last Row to 1st Row\n",
    "    for c in range(0,r): #from 1st number to last number\n",
    "        l[r-1][c]+=max(l[r][c],l[r][c+1])\n",
    "\n",
    "print(l[0][0])"
   ]
  },
  {
   "cell_type": "code",
   "execution_count": 3,
   "metadata": {},
   "outputs": [
    {
     "name": "stdout",
     "output_type": "stream",
     "text": [
      "7273\n"
     ]
    }
   ],
   "source": [
    "# ID: 67\n",
    "# Prime pair sets\n",
    "#\"By starting at the top of the triangle below and moving to adjacent numbers on the row below, the maximum total from top to bottom is 23.\n",
    "# 3\n",
    "# 7 4\n",
    "# 2 4 6\n",
    "# 8 5 9 3\n",
    "# That is, 3 + 7 + 4 + 9 = 23.\n",
    "# Find the maximum total from top to bottom in triangle.txt (right click and 'Save Link/Target As...'), a 15K text file containing a triangle with one-hundred rows.\n",
    "# NOTE: This is a much more difficult version of Problem 18. It is not possible to try every route to solve this problem, as there are 299 altogether! If you could check one trillion (1012) routes every second it would take over twenty billion years to check them all. There is an efficient algorithm to solve it. ;o)\"\n",
    "\n",
    "l=[[int(n) for n in r.split(\" \")] for r in open(\"p067_triangle.txt\")]\n",
    "\n",
    "for r in range(len(l)-2,-1,-1):\n",
    "    for c in range(r+1):\n",
    "        l[r][c] += max(l[r+1][c],l[r+1][c+1])\n",
    "\n",
    "print(l[0][0])"
   ]
  },
  {
   "cell_type": "code",
   "execution_count": 11,
   "metadata": {},
   "outputs": [],
   "source": [
    "# # ID: 74\n",
    "# # Digit factorial chains\n",
    "# # \"The number 145 is well known for the property that the sum of the factorial of its digits is equal to 145:\n",
    "# # 1! + 4! + 5! = 1 + 24 + 120 = 145\n",
    "# # Perhaps less well known is 169, in that it produces the longest chain of numbers that link back to 169; it turns out that there are only three such loops that exist:\n",
    "# # 169 → 363601 → 1454 → 169\n",
    "# # 871 → 45361 → 871\n",
    "# # 872 → 45362 → 872\n",
    "# # It is not difficult to prove that EVERY starting number will eventually get stuck in a loop. For example,\n",
    "# # 69 → 363600 → 1454 → 169 → 363601 (→ 1454)\n",
    "# # 78 → 45360 → 871 → 45361 (→ 871)\n",
    "# # 540 → 145 (→ 145)\n",
    "# # Starting with 69 produces a chain of five non-repeating terms, but the longest non-repeating chain with a starting number below one million is sixty terms.\n",
    "# # How many chains, with a starting number below one million, contain exactly sixty non-repeating terms?\"\n",
    "\n",
    "import math\n",
    "\n",
    "def num():\n",
    "    limit=10**6\n",
    "    ans= sum(1 for i in range(limit) if chain(i)==60)\n",
    "    return str(ans)\n",
    "\n",
    "def chain(n):\n",
    "    s=set()\n",
    "    while True:\n",
    "        s.add(n)\n",
    "        n=fact(n)\n",
    "        if n in s:\n",
    "            return len(s)\n",
    "\n",
    "def fact(n):\n",
    "    result=0\n",
    "    while n!=0:\n",
    "        result +=  factorials[n%10]\n",
    "        n//10\n",
    "    return result\n",
    "\n",
    "factorials = [math.factorial(i) for i in range(10)]\n",
    "print(num())"
   ]
  }
 ],
 "metadata": {
  "kernelspec": {
   "display_name": "Python 3",
   "language": "python",
   "name": "python3"
  },
  "language_info": {
   "codemirror_mode": {
    "name": "ipython",
    "version": 3
   },
   "file_extension": ".py",
   "mimetype": "text/x-python",
   "name": "python",
   "nbconvert_exporter": "python",
   "pygments_lexer": "ipython3",
   "version": "3.10.6"
  },
  "orig_nbformat": 4,
  "vscode": {
   "interpreter": {
    "hash": "369f2c481f4da34e4445cda3fffd2e751bd1c4d706f27375911949ba6bb62e1c"
   }
  }
 },
 "nbformat": 4,
 "nbformat_minor": 2
}
