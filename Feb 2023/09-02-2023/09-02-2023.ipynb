{
 "cells": [
  {
   "cell_type": "code",
   "execution_count": 8,
   "metadata": {},
   "outputs": [
    {
     "name": "stdout",
     "output_type": "stream",
     "text": [
      "871198282\n"
     ]
    }
   ],
   "source": [
    "# ID: 22\n",
    "# Names scores\n",
    "# \"Using names.txt (right click and 'Save Link/Target As...'), a 46K text file containing over five-thousand first names, begin by sorting it into alphabetical order. Then working out the alphabetical value for each name, multiply this value by its alphabetical position in the list to obtain a name score.\n",
    "# For example, when the list is sorted into alphabetical order, COLIN, which is worth 3 + 15 + 12 + 9 + 14 = 53, is the 938th name in the list. So, COLIN would obtain a score of 938 × 53 = 49714.\n",
    "# What is the total of all the name scores in the file?\"\n",
    "\n",
    "f = open(\"names.txt\",'r')\n",
    "index = {\"A\":1,\"B\":2,\"C\":3,\"D\":4,\"E\":5,\"F\":6,\"G\":7,\"H\":8,\"I\":9,\"J\":10,\"K\":11,\"L\":12,\"M\":13,\"N\":14,\"O\":15,\"P\":16,\"Q\":17,\"R\":18,\"S\":19,\"T\":20,\"U\":21,\"V\":22,\"W\":23,\"X\":24,\"Y\":25,\"Z\":26}\n",
    "names = sorted(f.read().replace('\"','').split(','))\n",
    "sum=0\n",
    "for pos,n in enumerate(names):\n",
    "    s=0\n",
    "    for i in n:\n",
    "        s+=index[i]\n",
    "    sum+=s*(pos+1)\n",
    "    \n",
    "print(sum)"
   ]
  },
  {
   "cell_type": "code",
   "execution_count": 30,
   "metadata": {},
   "outputs": [
    {
     "name": "stdout",
     "output_type": "stream",
     "text": [
      "45228\n"
     ]
    }
   ],
   "source": [
    "# ID: 32\n",
    "# Pandigital products\n",
    "# \"We shall say that an n-digit number is pandigital if it makes use of all the digits 1 to n exactly once; for example, the 5-digit number, 15234, is 1 through 5 pandigital.\n",
    "# The product 7254 is unusual, as the identity, 39 × 186 = 7254, containing multiplicand, multiplier, and product is 1 through 9 pandigital.\n",
    "# Find the sum of all products whose multiplicand/multiplier/product identity can be written as a 1 through 9 pandigital.\n",
    "# HINT: Some products can be obtained in more than one way so be sure to only include it once in your sum.\"\n",
    "\n",
    "p = set()\n",
    "to_be_checked = set('123456789')\n",
    "\n",
    "for i in range(9):\n",
    "\tfor j in range(999,9999):\n",
    "\t\ts = str(i)+str(j)+str(i*j)\n",
    "\t\tif len(s) == 9 and set(s) == to_be_checked:\n",
    "\t\t\tp.add(i*j)\n",
    "\t\telif len(s) > 9:\n",
    "\t\t\tbreak\n",
    "\n",
    "for i in range(9,99):\n",
    "\tfor j in range(99,999):\n",
    "\t\ts = str(i)+str(j)+str(i*j)\n",
    "\t\tif len(s) == 9 and set(s) == to_be_checked:\n",
    "\t\t\tp.add(i*j)\n",
    "\t\telif len(s)>9: break\n",
    "l=[]\n",
    "for i in p:\n",
    "\tl.append(int(i))\n",
    "s=0\n",
    "for k in l:\n",
    "\ts+=k\n",
    "print(s)"
   ]
  },
  {
   "cell_type": "code",
   "execution_count": null,
   "metadata": {},
   "outputs": [],
   "source": []
  }
 ],
 "metadata": {
  "kernelspec": {
   "display_name": "Python 3",
   "language": "python",
   "name": "python3"
  },
  "language_info": {
   "codemirror_mode": {
    "name": "ipython",
    "version": 3
   },
   "file_extension": ".py",
   "mimetype": "text/x-python",
   "name": "python",
   "nbconvert_exporter": "python",
   "pygments_lexer": "ipython3",
   "version": "3.10.6"
  },
  "orig_nbformat": 4,
  "vscode": {
   "interpreter": {
    "hash": "369f2c481f4da34e4445cda3fffd2e751bd1c4d706f27375911949ba6bb62e1c"
   }
  }
 },
 "nbformat": 4,
 "nbformat_minor": 2
}
