{
 "cells": [
  {
   "cell_type": "code",
   "execution_count": 2,
   "metadata": {},
   "outputs": [
    {
     "name": "stdout",
     "output_type": "stream",
     "text": [
      "127035954683\n"
     ]
    }
   ],
   "source": [
    "# ID: 62\n",
    "# Cubic permutations\n",
    "# \"The cube, 41063625 (3453), can be permuted to produce two other cubes: 56623104 (3843) and 66430125 (4053). In fact, 41063625 is the smallest cube which has exactly three permutations of its digits which are also cube.\n",
    "# Find the smallest cube for which exactly five permutations of its digits are cube.\"\n",
    "\n",
    "def propsort(n):\n",
    "    n = sorted(str(n)) \n",
    "    o = \"\"\n",
    "    for letter in n: o += letter\n",
    "    return o    \n",
    "\n",
    "def countcubes(a):\n",
    "    cc = {}\n",
    "    for c in [propsort(c) for c in a]:\n",
    "        if c not in list(cc.keys()):\n",
    "            cc[c] = 1\n",
    "        else: cc[c] += 1\n",
    "  \n",
    "    for cube in cc.items():\n",
    "        if cube[1] == 5:\n",
    "            for c in a:\n",
    "                if propsort(c) == cube[0]:\n",
    "                    return c \n",
    "    return 0\n",
    "\n",
    "i = 2\n",
    "cubes = [1]\n",
    "\n",
    "while True:\n",
    "    while len(str(cubes[0])) == len(str(i**3)):\n",
    "        cubes.append(i ** 3)\n",
    "        i += 1\n",
    "    c = countcubes(cubes)\n",
    "    if c == 0:\n",
    "        cubes = [i ** 3]\n",
    "        i += 1\n",
    "    else: break\n",
    "print(c)"
   ]
  },
  {
   "cell_type": "code",
   "execution_count": 3,
   "metadata": {},
   "outputs": [
    {
     "name": "stdout",
     "output_type": "stream",
     "text": [
      "49\n"
     ]
    }
   ],
   "source": [
    "# ID: 63\n",
    "# Powerful digit counts\n",
    "# \"The 5-digit number, 16807=75, is also a fifth power. Similarly, the 9-digit number, 134217728=89, is a ninth power.\n",
    "# How many n-digit positive integers exist which are also an nth power?\"\n",
    "\n",
    "counter = 0\n",
    "\n",
    "for i in range(1, 10):\n",
    "    power = 1\n",
    "    while True:\n",
    "        if power == len(str(i ** power)):\n",
    "            counter += 1\n",
    "        else:\n",
    "            break\n",
    "        power += 1\n",
    "print(counter)"
   ]
  },
  {
   "cell_type": "code",
   "execution_count": 4,
   "metadata": {},
   "outputs": [
    {
     "name": "stdout",
     "output_type": "stream",
     "text": [
      "661\n"
     ]
    }
   ],
   "source": [
    "# ID: 66\n",
    "# Diophantine equation\n",
    "# \"Consider quadratic Diophantine equations of the form:\n",
    "# x2 – Dy2 = 1\n",
    "# For example, when D=13, the minimal solution in x is 6492 – 13×1802 = 1.\n",
    "# It can be assumed that there are no solutions in positive integers when D is square.\n",
    "# By finding minimal solutions in x for D = {2, 3, 5, 6, 7}, we obtain the following:\n",
    "# 32 – 2×22 = 1\n",
    "# 22 – 3×12 = 1\n",
    "# 92 – 5×42 = 1\n",
    "# 52 – 6×22 = 1\n",
    "# 82 – 7×32 = 1\n",
    "# Hence, by considering minimal solutions in x for D ≤ 7, the largest x is obtained when D=5.\n",
    "# Find the value of D ≤ 1000 in minimal solutions of x for which the largest value of x is obtained.\"\n",
    "\n",
    "from math import sqrt\n",
    "\n",
    "def cf(n):\n",
    "    mn = 0.0\n",
    "    dn = 1.0\n",
    "    a0 = int(sqrt(n))\n",
    "    an = int(sqrt(n))\n",
    "    convergents = [a0]\n",
    "    period = 0\n",
    "    if a0 != sqrt(n):\n",
    "        while an != 2*a0:\n",
    "            mn = dn*an - mn\n",
    "            dn = (n - mn**2)/dn\n",
    "            an = int((a0 + mn)/dn)\n",
    "            convergents.append(an)\n",
    "    return convergents[:-1]\n",
    "\n",
    "def cf_inv(cf):\n",
    "    numerator = 1\n",
    "    denominator = cf.pop()\n",
    "    while cf:\n",
    "        denominator, numerator = denominator*cf.pop() + numerator, denominator\n",
    "    return denominator, numerator\n",
    "\n",
    "largest = 0, 0\n",
    "\n",
    "for i in range(1, 1001):\n",
    "    if i%sqrt(i) != 0:\n",
    "        continued_fraction = cf(i)\n",
    "        if len(continued_fraction) % 2 != 0:\n",
    "            u, v = cf_inv(continued_fraction)\n",
    "            u, v = 2*u**2+1, 2*u*v\n",
    "        else:\n",
    "            u, v = cf_inv(continued_fraction)\n",
    "        if u > largest[1]:\n",
    "            largest = i, u\n",
    "\n",
    "print(largest[0])\n"
   ]
  }
 ],
 "metadata": {
  "kernelspec": {
   "display_name": "Python 3",
   "language": "python",
   "name": "python3"
  },
  "language_info": {
   "codemirror_mode": {
    "name": "ipython",
    "version": 3
   },
   "file_extension": ".py",
   "mimetype": "text/x-python",
   "name": "python",
   "nbconvert_exporter": "python",
   "pygments_lexer": "ipython3",
   "version": "3.10.6"
  },
  "orig_nbformat": 4,
  "vscode": {
   "interpreter": {
    "hash": "369f2c481f4da34e4445cda3fffd2e751bd1c4d706f27375911949ba6bb62e1c"
   }
  }
 },
 "nbformat": 4,
 "nbformat_minor": 2
}
