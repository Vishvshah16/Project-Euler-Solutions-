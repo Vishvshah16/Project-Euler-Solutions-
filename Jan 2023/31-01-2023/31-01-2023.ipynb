{
 "cells": [
  {
   "cell_type": "code",
   "execution_count": 9,
   "metadata": {},
   "outputs": [],
   "source": [
    "# # ID : 23\n",
    "# # Non-abundant sums\n",
    "# # \"A perfect number is a number for which the sum of its proper divisors is exactly equal to the number. For example, the sum of the proper divisors of 28 would be 1 + 2 + 4 + 7 + 14 = 28, which means that 28 is a perfect number. A number n is called deficient if the sum of its proper divisors is less than n and it is called abundant if this sum exceeds n. As 12 is the smallest abundant number, 1 + 2 + 3 + 4 + 6 = 16, the smallest number that can be written as the sum of two abundant numbers is 24. By mathematical analysis, it can be shown that all integers greater than 28123 can be written as the sum of two abundant numbers. However, this upper limit cannot be reduced any further by analysis even though it is known that the greatest number that cannot be expressed as the sum of two abundant numbers is less than this limit. Find the sum of all the positive integers which cannot be written as the sum of two abundant numbers.\"\n",
    "\n",
    "\n",
    "def fact_sum(n):\n",
    "    s=0\n",
    "    for i in range(2,n//2):\n",
    "        if(n%i==0):\n",
    "            s=s+i\n",
    "    return s\n",
    "abundants = []\n",
    "sums= []\n",
    "for x in range(12,28124):\n",
    "    ch = fact_sum(x)\n",
    "    if ch>x:\n",
    "        abundants.append(x)\n",
    "for i in abundants:\n",
    "    for j in abundants:\n",
    "        sum = i + j\n",
    "        if(sum>28123):\n",
    "            break\n",
    "        else:\n",
    "            if(sum not in sums):\n",
    "                sums.append(sum)\n",
    "total_sum = 0\n",
    "for i in range(1,28124):\n",
    "    if i not in sums:\n",
    "        total_sum = total_sum + i\n",
    "print(total_sum)\n",
    "\n",
    "# 4179871"
   ]
  },
  {
   "cell_type": "code",
   "execution_count": 5,
   "metadata": {},
   "outputs": [
    {
     "data": {
      "text/plain": [
       "2783915460"
      ]
     },
     "execution_count": 5,
     "metadata": {},
     "output_type": "execute_result"
    }
   ],
   "source": [
    "# ID: 24\n",
    "# Lexicographic permutations\n",
    "# \"A permutation is an ordered arrangement of objects. For example, 3124 is one possible permutation of the digits 1, 2, 3 and 4. If all of the permutations are listed numerically or alphabetically, we call it lexicographic order. The lexicographic permutations of 0, 1 and 2 are:\n",
    "# 012   021   102   120   201   210\n",
    "# What is the millionth lexicographic permutation of the digits 0, 1, 2, 3, 4, 5, 6, 7, 8 and 9?\"\n",
    "\n",
    "from itertools import islice,permutations\n",
    "\n",
    "def per(n):\n",
    "    nums = [0,1,2,3,4,5,6,7,8,9]\n",
    "    permut = permutations(range(len(nums)))\n",
    "    d = next(islice(permut,n-1,n))\n",
    "    ans = sum([d*10**(len(nums)-1-i) for i,d in enumerate(d)])\n",
    "    return ans\n",
    "\n",
    "per(1000000)\n",
    "\n"
   ]
  },
  {
   "cell_type": "code",
   "execution_count": 21,
   "metadata": {},
   "outputs": [
    {
     "name": "stdout",
     "output_type": "stream",
     "text": [
      "4782 th Term will be the first containing 1000 digits\n"
     ]
    }
   ],
   "source": [
    "# ID: 25\n",
    "# 1000-digit Fibonacci number\n",
    "# \"The Fibonacci sequence is defined by the recurrence relation:\n",
    "# Fn = Fn−1 + Fn−2, where F1 = 1 and F2 = 1.\n",
    "# Hence the first 12 terms will be:\n",
    "# F1 = 1\n",
    "# F2 = 1\n",
    "# F3 = 2\n",
    "# F4 = 3\n",
    "# F5 = 5\n",
    "# F6 = 8\n",
    "# F7 = 13\n",
    "# F8 = 21\n",
    "# F9 = 34\n",
    "# F10 = 55\n",
    "# F11 = 89\n",
    "# F12 = 144\n",
    "# The 12th term, F12, is the first term to contain three digits.\n",
    "# What is the index of the first term in the Fibonacci sequence to contain 1000 digits?\"\n",
    "\n",
    "def fibb():\n",
    "    a=1\n",
    "    b=1\n",
    "    sum=0\n",
    "    count=2\n",
    "    # print(a)\n",
    "    # print(b)\n",
    "    while(b>0):\n",
    "        count+=1\n",
    "        c=a+b\n",
    "        # print(c)\n",
    "        if(len(str(c))==1000):\n",
    "            break\n",
    "        a=b\n",
    "        b=c\n",
    "    print(count,\"th Term will be the first containing 1000 digits\")\n",
    "fibb()"
   ]
  },
  {
   "cell_type": "code",
   "execution_count": 29,
   "metadata": {},
   "outputs": [
    {
     "name": "stdout",
     "output_type": "stream",
     "text": [
      "982\n"
     ]
    }
   ],
   "source": [
    "# ID: 26\n",
    "# Reciprocal cycles\n",
    "# \"A unit fraction contains 1 in the numerator. The decimal representation of the unit fractions with denominators 2 to 10 are given:\n",
    "# 1/2 =  0.5\n",
    "# 1/3 =  0.(3)\n",
    "# 1/4 =  0.25\n",
    "# 1/5 =  0.2\n",
    "# 1/6 =  0.1(6)\n",
    "# 1/7 =  0.(142857)\n",
    "# 1/8 =  0.125\n",
    "# 1/9 =  0.(1)\n",
    "# 1/10 =  0.1\n",
    "# Where 0.1(6) means 0.166666..., and has a 1-digit recurring cycle. It can be seen that 1/7 has a 6-digit recurring cycle.\n",
    "# Find the value of d < 1000 for which 1/d contains the longest recurring cycle in its decimal fraction part.\"\n",
    "\n",
    "def rec_cycle(n,d):\n",
    "    for i in range(1,d):\n",
    "        if(1==10**i % d):\n",
    "            return i\n",
    "    return 0\n",
    "        \n",
    "ans = max(rec_cycle(1,i) for i in range(2,1001))\n",
    "print(ans)\n",
    "# rec_cycle(1,i)s"
   ]
  },
  {
   "cell_type": "code",
   "execution_count": 4,
   "metadata": {},
   "outputs": [
    {
     "data": {
      "text/plain": [
       "669171001.0"
      ]
     },
     "execution_count": 4,
     "metadata": {},
     "output_type": "execute_result"
    }
   ],
   "source": [
    "# ID: 28\n",
    "# Number spiral diagonals\n",
    "# \"Starting with the number 1 and moving to the right in a clockwise direction a 5 by 5 spiral is formed as follows:\n",
    "# 21 22 23 24 25\n",
    "# 20  7  8  9 10\n",
    "# 19  6  1  2 11\n",
    "# 18  5  4  3 12\n",
    "# 17 16 15 14 13\n",
    "# It can be verified that the sum of the numbers on the diagonals is 101.\n",
    "# What is the sum of the numbers on the diagonals in a 1001 by 1001 spiral formed in the same way?\"\n",
    "\n",
    "def sum_diagonals(n):\n",
    "    n = (n-1)/2\n",
    "    return 2*n*(8*n*n+15*n+13)/3+1  #Summation Rule refered google\n",
    "\n",
    "sum_diagonals(1001)"
   ]
  },
  {
   "cell_type": "code",
   "execution_count": 20,
   "metadata": {},
   "outputs": [
    {
     "data": {
      "text/plain": [
       "9183"
      ]
     },
     "execution_count": 20,
     "metadata": {},
     "output_type": "execute_result"
    }
   ],
   "source": [
    "# ID: 29\n",
    "# Distinct powers\n",
    "# \"Consider all integer combinations of ab for 2 ≤ a ≤ 5 and 2 ≤ b ≤ 5:\n",
    "# 2^2=4, 2^3=8, 2^4=16, 2^5=32\n",
    "# 32=9, 33=27, 34=81, 35=243\n",
    "# 42=16, 43=64, 44=256, 45=1024\n",
    "# 52=25, 53=125, 54=625, 55=3125\n",
    "# If they are then placed in numerical order, with any repeats removed, we get the following sequence of 15 distinct terms:\n",
    "# 4, 8, 9, 16, 25, 27, 32, 64, 81, 125, 243, 256, 625, 1024, 3125\n",
    "# How many distinct terms are in the sequence generated by ab for 2 ≤ a ≤ 100 and 2 ≤ b ≤ 100?\"\n",
    "\n",
    "def dist(min,max):\n",
    "    l = []\n",
    "    for a in range(2,max+1):\n",
    "        for b in range(2,max+1):\n",
    "            x = pow(a,b)\n",
    "            if x not in l:\n",
    "                l.append(x)\n",
    "        \n",
    "    return len(l)\n",
    "\n",
    "dist(2,100)"
   ]
  }
 ],
 "metadata": {
  "kernelspec": {
   "display_name": "Python 3",
   "language": "python",
   "name": "python3"
  },
  "language_info": {
   "codemirror_mode": {
    "name": "ipython",
    "version": 3
   },
   "file_extension": ".py",
   "mimetype": "text/x-python",
   "name": "python",
   "nbconvert_exporter": "python",
   "pygments_lexer": "ipython3",
   "version": "3.10.6"
  },
  "orig_nbformat": 4,
  "vscode": {
   "interpreter": {
    "hash": "369f2c481f4da34e4445cda3fffd2e751bd1c4d706f27375911949ba6bb62e1c"
   }
  }
 },
 "nbformat": 4,
 "nbformat_minor": 2
}
